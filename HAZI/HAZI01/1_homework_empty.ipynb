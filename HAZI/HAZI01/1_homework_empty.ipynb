{
 "cells": [
  {
   "cell_type": "code",
   "execution_count": 5,
   "metadata": {},
   "outputs": [],
   "source": [
    "def subset(input_list:list, start:int, end:int) -> list:\n",
    "    i=start\n",
    "    output=[]\n",
    "\n",
    "    while(i<len(input_list) and i<end):\n",
    "        output.append(input_list[i])\n",
    "        i=i+1\n",
    "\n",
    "    return output"
   ]
  },
  {
   "cell_type": "code",
   "execution_count": 6,
   "metadata": {},
   "outputs": [
    {
     "name": "stdout",
     "output_type": "stream",
     "text": [
      "[1, 4, 7]\n"
     ]
    }
   ],
   "source": [
    "def every_nth(inputList:list,n:int)->list:\n",
    "    return inputList[0::n]"
   ]
  },
  {
   "cell_type": "code",
   "execution_count": 8,
   "metadata": {},
   "outputs": [
    {
     "name": "stdout",
     "output_type": "stream",
     "text": [
      "False\n"
     ]
    }
   ],
   "source": [
    "def unique(inputList:list) -> bool:\n",
    "    for element in inputList:\n",
    "        if inputList.count(element)>1:\n",
    "            return False\n",
    "    return True"
   ]
  },
  {
   "cell_type": "code",
   "execution_count": 18,
   "metadata": {},
   "outputs": [
    {
     "name": "stdout",
     "output_type": "stream",
     "text": [
      "[1, 2, 3, 4, 5, 6]\n"
     ]
    }
   ],
   "source": [
    "def flatten(inputList:list) -> list:\n",
    "    i=0\n",
    "    j=0\n",
    "    output=[]\n",
    "    while(i<len(inputList)):\n",
    "        while(j<len(inputList[0])):\n",
    "            output.append(inputList[i][j])\n",
    "            j=j+1\n",
    "        j=0\n",
    "        i=i+1\n",
    "    return output"
   ]
  },
  {
   "cell_type": "code",
   "execution_count": 48,
   "metadata": {},
   "outputs": [],
   "source": [
    "def merge_lists(*args)->list:\n",
    "    output=[]\n",
    "    for list in args:\n",
    "        for element in list:\n",
    "            output.append(element)\n",
    "    return output"
   ]
  },
  {
   "cell_type": "code",
   "execution_count": 23,
   "metadata": {},
   "outputs": [
    {
     "name": "stdout",
     "output_type": "stream",
     "text": [
      "[(2, 1), (5, 4)]\n"
     ]
    }
   ],
   "source": [
    "def reverse_tuples(inputList:list)->list:\n",
    "    output=[]\n",
    "    for element in inputList:\n",
    "        output.append((element[1],element[0]))\n",
    "    return output"
   ]
  },
  {
   "cell_type": "code",
   "execution_count": 25,
   "metadata": {},
   "outputs": [],
   "source": [
    "def remove_duplicates(inputList:list)->list:\n",
    "    output=[]\n",
    "    for element in inputList:\n",
    "        if output.__contains__(element)==False:\n",
    "            output.append(element)\n",
    "    return output"
   ]
  },
  {
   "cell_type": "code",
   "execution_count": 28,
   "metadata": {},
   "outputs": [],
   "source": [
    "def split_into_chunks(InputList:list,chunkSize:int)->list:\n",
    "    output=[]\n",
    "    start=0\n",
    "    for i in range(start,len(InputList),chunkSize):\n",
    "        x=i\n",
    "        output.append(InputList[x:x+chunkSize])\n",
    "    return output"
   ]
  },
  {
   "cell_type": "code",
   "execution_count": 50,
   "metadata": {},
   "outputs": [],
   "source": [
    "def merge_dicts(*dict)->dict:\n",
    "    output={}\n",
    "    for d in dict:\n",
    "        output.update(d)\n",
    "    return output"
   ]
  },
  {
   "cell_type": "code",
   "execution_count": 55,
   "metadata": {},
   "outputs": [],
   "source": [
    "def by_parity(inputList:list)->dict:\n",
    "    evenList=[]\n",
    "    oddList=[]\n",
    "    for i in inputList:\n",
    "        if i%2==0:\n",
    "            evenList.append(i)\n",
    "        else:\n",
    "            oddList.append(i)\n",
    "    return {\"even\":evenList,\"odd\":oddList}\n"
   ]
  },
  {
   "cell_type": "code",
   "execution_count": 57,
   "metadata": {},
   "outputs": [
    {
     "name": "stdout",
     "output_type": "stream",
     "text": [
      "{'some_key': 2.5, 'another_key': 2.5}\n"
     ]
    }
   ],
   "source": [
    "def mean_key_value(dictionary:dict)->dict:\n",
    "    outputDict={}\n",
    "    for k,v in dictionary.items():\n",
    "        sum=0\n",
    "        for i in v:\n",
    "            sum=sum+i\n",
    "        outputDict[k]=sum/len(v)\n",
    "    return outputDict"
   ]
  }
 ],
 "metadata": {
  "kernelspec": {
   "display_name": "Python 3",
   "language": "python",
   "name": "python3"
  },
  "language_info": {
   "codemirror_mode": {
    "name": "ipython",
    "version": 3
   },
   "file_extension": ".py",
   "mimetype": "text/x-python",
   "name": "python",
   "nbconvert_exporter": "python",
   "pygments_lexer": "ipython3",
   "version": "3.11.2"
  },
  "orig_nbformat": 4
 },
 "nbformat": 4,
 "nbformat_minor": 2
}
